{
 "metadata": {
  "language_info": {
   "codemirror_mode": {
    "name": "ipython",
    "version": 3
   },
   "file_extension": ".py",
   "mimetype": "text/x-python",
   "name": "python",
   "nbconvert_exporter": "python",
   "pygments_lexer": "ipython3",
   "version": "3.6.10-final"
  },
  "orig_nbformat": 2,
  "kernelspec": {
   "name": "Python 3.6.10 64-bit ('tensorflow': conda)",
   "display_name": "Python 3.6.10 64-bit ('tensorflow': conda)",
   "metadata": {
    "interpreter": {
     "hash": "0a896cb67606cd05151995453dc39b691b955953edd7a5455ff06022f985de96"
    }
   }
  }
 },
 "nbformat": 4,
 "nbformat_minor": 2,
 "cells": [
  {
   "cell_type": "code",
   "execution_count": null,
   "metadata": {},
   "outputs": [],
   "source": [
    "import h5py\n",
    "import pandas as pd\n",
    "import numpy as np"
   ]
  },
  {
   "cell_type": "code",
   "execution_count": null,
   "metadata": {},
   "outputs": [],
   "source": [
    "f = h5py.File('raw/processed-pythia82-lhc13-all-pt1-50k-r1_h022_e0175_t220_nonu_withPars_truth_0.z', 'r')\n",
    "treeArray = f['t_allpar_new'][()]\n",
    "f.close()\n",
    "print(treeArray.dtype.names)"
   ]
  },
  {
   "cell_type": "code",
   "execution_count": null,
   "metadata": {},
   "outputs": [],
   "source": [
    "features = [\"j1_e\",\"j1_px\",\"j1_py\",\"j1_pz\"]\n",
    "j_index = [\"j_index\"]\n",
    "labels = ['j_q', 'j_g', 'j_w', 'j_z', 'j_t']"
   ]
  },
  {
   "source": [
    "df = pd.DataFrame(treeArray,columns=list(set(features+j_index)))\n",
    "df = df.drop_duplicates()\n",
    "df = df[features+j_index]"
   ],
   "cell_type": "code",
   "metadata": {},
   "execution_count": null,
   "outputs": []
  },
  {
   "cell_type": "code",
   "execution_count": null,
   "metadata": {},
   "outputs": [],
   "source": [
    "df2 = (df.pivot_table(index = \"j_index\", columns = df.groupby(\"j_index\").cumcount().add(1), aggfunc = \"first\", fill_value = 0).sort_index(axis = 1, level = 1))\n",
    "df2 = (df2.set_axis([f'{x}{y}' for x,y in df2.columns], axis=1).reset_index())\n",
    "df2 = df2.iloc[:, 1:801]\n",
    "df2.reset_index(drop = True, inplace = True)"
   ]
  },
  {
   "cell_type": "code",
   "execution_count": null,
   "metadata": {},
   "outputs": [],
   "source": [
    "df2"
   ]
  },
  {
   "cell_type": "code",
   "execution_count": null,
   "metadata": {},
   "outputs": [],
   "source": [
    "j_px = treeArray[\"j_pt\"]\n",
    "j_py = np.zeros((treeArray[\"index\"].size))\n",
    "j_pz = treeArray[\"j_pt\"] * np.sinh(treeArray[\"j_eta\"])\n",
    "j_E = np.sqrt(np.square(treeArray[\"j_mass\"]) + np.square(treeArray[\"j_pt\"]) + np.square(j_pz))\n",
    "features_np = np.stack((j_E, j_px, j_py, j_pz, treeArray[\"j_q\"], treeArray[\"j_g\"], treeArray[\"j_w\"], treeArray[\"j_z\"], treeArray[\"j_t\"], treeArray[\"j_index\"]))"
   ]
  },
  {
   "cell_type": "code",
   "execution_count": null,
   "metadata": {},
   "outputs": [],
   "source": [
    "features_np = features_np.T"
   ]
  },
  {
   "cell_type": "code",
   "execution_count": null,
   "metadata": {},
   "outputs": [],
   "source": [
    "features_df = pd.DataFrame(features_np, columns = [\"j_E\", \"j_px\", \"j_py\", \"j_pz\", \"j_q\", \"j_g\", \"j_w\", \"j_z\", \"j_t\", \"j_index\"])\n",
    "features_df = features_df.drop_duplicates()\n",
    "features_df.sort_values(by=[\"j_index\"], inplace=True)\n",
    "features_df = features_df.iloc[:, :-1]\n",
    "features_df.reset_index(drop = True, inplace = True)"
   ]
  },
  {
   "cell_type": "code",
   "execution_count": null,
   "metadata": {},
   "outputs": [],
   "source": [
    "features_df"
   ]
  },
  {
   "cell_type": "code",
   "execution_count": null,
   "metadata": {},
   "outputs": [],
   "source": [
    "df2 = df2.append(features_df)"
   ]
  },
  {
   "cell_type": "code",
   "execution_count": null,
   "metadata": {},
   "outputs": [],
   "source": [
    "df2"
   ]
  },
  {
   "cell_type": "code",
   "execution_count": null,
   "metadata": {},
   "outputs": [],
   "source": []
  }
 ]
}