{
 "metadata": {
  "language_info": {
   "codemirror_mode": {
    "name": "ipython",
    "version": 3
   },
   "file_extension": ".py",
   "mimetype": "text/x-python",
   "name": "python",
   "nbconvert_exporter": "python",
   "pygments_lexer": "ipython3",
   "version": "3.6.10-final"
  },
  "orig_nbformat": 2,
  "kernelspec": {
   "name": "Python 3.6.10 64-bit ('tensorflow': conda)",
   "display_name": "Python 3.6.10 64-bit ('tensorflow': conda)",
   "metadata": {
    "interpreter": {
     "hash": "0a896cb67606cd05151995453dc39b691b955953edd7a5455ff06022f985de96"
    }
   }
  }
 },
 "nbformat": 4,
 "nbformat_minor": 2,
 "cells": [
  {
   "cell_type": "code",
   "execution_count": 146,
   "metadata": {},
   "outputs": [],
   "source": [
    "import h5py\n",
    "import pandas as pd\n",
    "import numpy as np"
   ]
  },
  {
   "cell_type": "code",
   "execution_count": 147,
   "metadata": {},
   "outputs": [],
   "source": [
    "filename = 'processed-pythia82-lhc13-all-pt1-50k-r1_h022_e0175_t220_nonu_withPars_truth_9'"
   ]
  },
  {
   "cell_type": "code",
   "execution_count": 148,
   "metadata": {},
   "outputs": [
    {
     "output_type": "stream",
     "name": "stdout",
     "text": [
      "('index', 'j_ptfrac', 'j_pt', 'j_eta', 'j_mass', 'j_tau1_b1', 'j_tau2_b1', 'j_tau3_b1', 'j_tau1_b2', 'j_tau2_b2', 'j_tau3_b2', 'j_tau32_b1', 'j_tau32_b2', 'j_zlogz', 'j_c1_b0', 'j_c1_b1', 'j_c1_b2', 'j_c2_b1', 'j_c2_b2', 'j_d2_b1', 'j_d2_b2', 'j_d2_a1_b1', 'j_d2_a1_b2', 'j_m2_b1', 'j_m2_b2', 'j_n2_b1', 'j_n2_b2', 'j_tau1_b1_mmdt', 'j_tau2_b1_mmdt', 'j_tau3_b1_mmdt', 'j_tau1_b2_mmdt', 'j_tau2_b2_mmdt', 'j_tau3_b2_mmdt', 'j_tau32_b1_mmdt', 'j_tau32_b2_mmdt', 'j_c1_b0_mmdt', 'j_c1_b1_mmdt', 'j_c1_b2_mmdt', 'j_c2_b1_mmdt', 'j_c2_b2_mmdt', 'j_d2_b1_mmdt', 'j_d2_b2_mmdt', 'j_d2_a1_b1_mmdt', 'j_d2_a1_b2_mmdt', 'j_m2_b1_mmdt', 'j_m2_b2_mmdt', 'j_n2_b1_mmdt', 'j_n2_b2_mmdt', 'j_mass_trim', 'j_mass_mmdt', 'j_mass_prun', 'j_mass_sdb2', 'j_mass_sdm1', 'j_multiplicity', 'j1_px', 'j1_py', 'j1_pz', 'j1_e', 'j1_pdgid', 'j1_erel', 'j1_pt', 'j1_ptrel', 'j1_eta', 'j1_etarel', 'j1_etarot', 'j1_phi', 'j1_phirel', 'j1_phirot', 'j1_deltaR', 'j1_costheta', 'j1_costhetarel', 'j1_e1mcosthetarel', 'j_g', 'j_q', 'j_w', 'j_z', 'j_t', 'j_undef', 'j_index')\n"
     ]
    }
   ],
   "source": [
    "f = h5py.File('raw/' + filename + '.z', 'r')\n",
    "treeArray = f['t_allpar_new'][()]\n",
    "f.close()\n",
    "print(treeArray.dtype.names)"
   ]
  },
  {
   "cell_type": "code",
   "execution_count": 149,
   "metadata": {},
   "outputs": [],
   "source": [
    "features = [\"j1_e\",\"j1_px\",\"j1_py\",\"j1_pz\"]\n",
    "j_index = [\"j_index\"]\n",
    "labels = ['j_q', 'j_g', 'j_w', 'j_z', 'j_t']"
   ]
  },
  {
   "source": [
    "df = pd.DataFrame(treeArray,columns=list(set(features+j_index)))\n",
    "df = df.drop_duplicates()\n",
    "df = df[features+j_index]"
   ],
   "cell_type": "code",
   "metadata": {},
   "execution_count": 150,
   "outputs": []
  },
  {
   "cell_type": "code",
   "execution_count": 151,
   "metadata": {},
   "outputs": [],
   "source": [
    "df2 = (df.pivot_table(index = \"j_index\", columns = df.groupby(\"j_index\").cumcount().add(1), aggfunc = \"first\", fill_value = 0).sort_index(axis = 1, level = 1))\n",
    "df2 = (df2.set_axis([f'{x}{y}' for x,y in df2.columns], axis=1).reset_index())\n",
    "df2 = df2.iloc[:, 1:801]\n",
    "df2.reset_index(drop = True, inplace = True)"
   ]
  },
  {
   "cell_type": "code",
   "execution_count": 152,
   "metadata": {},
   "outputs": [],
   "source": [
    "if(len(df2.columns) < 800):\n",
    "    i = int(len(df2.columns) / 4)\n",
    "    length = df2.shape[0]\n",
    "    while i <= 200:\n",
    "        df2[\"j1_e\" + str(i)] = np.zeros((length))\n",
    "        df2[\"j1_px\" + str(i)] = np.zeros((length))\n",
    "        df2[\"j1_py\" + str(i)] = np.zeros((length))\n",
    "        df2[\"j1_pz\" + str(i)] = np.zeros((length))\n",
    "        i = i + 1"
   ]
  },
  {
   "cell_type": "code",
   "execution_count": 153,
   "metadata": {},
   "outputs": [
    {
     "output_type": "execute_result",
     "data": {
      "text/plain": [
       "            j1_e1      j1_px1      j1_py1      j1_pz1       j1_e2      j1_px2  \\\n",
       "0      750.853638  263.664520 -182.444260 -678.952332  585.144897  205.583252   \n",
       "1      432.886475   -8.857548  354.048767 -248.921112  204.682266   -3.753098   \n",
       "2      355.651337  255.912674   11.529702 -246.705582   81.910553   59.158012   \n",
       "3      533.614868  507.421356   48.375240  157.886826   50.898926   49.697281   \n",
       "4       68.106377    0.791573  -63.289627  -25.145077   53.902973   -2.909187   \n",
       "...           ...         ...         ...         ...         ...         ...   \n",
       "98763  162.574478   66.458244  146.757843  -21.815189  149.549133   61.525631   \n",
       "98764   99.811035   55.350876   81.288795  -17.048637   44.799080   24.960217   \n",
       "98765  325.679840 -241.943481 -103.064125  192.115845  144.435120 -107.709503   \n",
       "98766  137.944458  -90.294876   43.407539  -94.822327  105.007225  -69.811890   \n",
       "98767  123.853828  -47.016567  -89.639305   71.372192  108.165077  -39.354069   \n",
       "\n",
       "           j1_py2      j1_pz2       j1_e3     j1_px3  ...  j1_py198  j1_pz198  \\\n",
       "0     -143.016251 -528.844421  220.193924  76.962601  ...       0.0       0.0   \n",
       "1      166.691681 -118.720779  160.568924  -2.296667  ...       0.0       0.0   \n",
       "2        2.915969  -56.578671   79.103516  57.111702  ...       0.0       0.0   \n",
       "3        3.225070   10.468827   36.955311  35.339100  ...       0.0       0.0   \n",
       "4      -52.814068  -10.379848   50.724018  -2.523490  ...       0.0       0.0   \n",
       "...           ...         ...         ...        ...  ...       ...       ...   \n",
       "98763  134.908997  -19.470064  102.112190  41.342888  ...       0.0       0.0   \n",
       "98764   36.451290   -7.431595   42.886120  23.469486  ...       0.0       0.0   \n",
       "98765  -46.266567   84.377434  101.453598 -75.606232  ...       0.0       0.0   \n",
       "98766   32.066605  -71.585968   91.719185 -60.037533  ...       0.0       0.0   \n",
       "98767  -76.659515   65.377678   78.864212 -24.157024  ...       0.0       0.0   \n",
       "\n",
       "       j1_e199  j1_px199  j1_py199  j1_pz199  j1_e200  j1_px200  j1_py200  \\\n",
       "0          0.0       0.0       0.0       0.0      0.0       0.0       0.0   \n",
       "1          0.0       0.0       0.0       0.0      0.0       0.0       0.0   \n",
       "2          0.0       0.0       0.0       0.0      0.0       0.0       0.0   \n",
       "3          0.0       0.0       0.0       0.0      0.0       0.0       0.0   \n",
       "4          0.0       0.0       0.0       0.0      0.0       0.0       0.0   \n",
       "...        ...       ...       ...       ...      ...       ...       ...   \n",
       "98763      0.0       0.0       0.0       0.0      0.0       0.0       0.0   \n",
       "98764      0.0       0.0       0.0       0.0      0.0       0.0       0.0   \n",
       "98765      0.0       0.0       0.0       0.0      0.0       0.0       0.0   \n",
       "98766      0.0       0.0       0.0       0.0      0.0       0.0       0.0   \n",
       "98767      0.0       0.0       0.0       0.0      0.0       0.0       0.0   \n",
       "\n",
       "       j1_pz200  \n",
       "0           0.0  \n",
       "1           0.0  \n",
       "2           0.0  \n",
       "3           0.0  \n",
       "4           0.0  \n",
       "...         ...  \n",
       "98763       0.0  \n",
       "98764       0.0  \n",
       "98765       0.0  \n",
       "98766       0.0  \n",
       "98767       0.0  \n",
       "\n",
       "[98768 rows x 800 columns]"
      ],
      "text/html": "<div>\n<style scoped>\n    .dataframe tbody tr th:only-of-type {\n        vertical-align: middle;\n    }\n\n    .dataframe tbody tr th {\n        vertical-align: top;\n    }\n\n    .dataframe thead th {\n        text-align: right;\n    }\n</style>\n<table border=\"1\" class=\"dataframe\">\n  <thead>\n    <tr style=\"text-align: right;\">\n      <th></th>\n      <th>j1_e1</th>\n      <th>j1_px1</th>\n      <th>j1_py1</th>\n      <th>j1_pz1</th>\n      <th>j1_e2</th>\n      <th>j1_px2</th>\n      <th>j1_py2</th>\n      <th>j1_pz2</th>\n      <th>j1_e3</th>\n      <th>j1_px3</th>\n      <th>...</th>\n      <th>j1_py198</th>\n      <th>j1_pz198</th>\n      <th>j1_e199</th>\n      <th>j1_px199</th>\n      <th>j1_py199</th>\n      <th>j1_pz199</th>\n      <th>j1_e200</th>\n      <th>j1_px200</th>\n      <th>j1_py200</th>\n      <th>j1_pz200</th>\n    </tr>\n  </thead>\n  <tbody>\n    <tr>\n      <th>0</th>\n      <td>750.853638</td>\n      <td>263.664520</td>\n      <td>-182.444260</td>\n      <td>-678.952332</td>\n      <td>585.144897</td>\n      <td>205.583252</td>\n      <td>-143.016251</td>\n      <td>-528.844421</td>\n      <td>220.193924</td>\n      <td>76.962601</td>\n      <td>...</td>\n      <td>0.0</td>\n      <td>0.0</td>\n      <td>0.0</td>\n      <td>0.0</td>\n      <td>0.0</td>\n      <td>0.0</td>\n      <td>0.0</td>\n      <td>0.0</td>\n      <td>0.0</td>\n      <td>0.0</td>\n    </tr>\n    <tr>\n      <th>1</th>\n      <td>432.886475</td>\n      <td>-8.857548</td>\n      <td>354.048767</td>\n      <td>-248.921112</td>\n      <td>204.682266</td>\n      <td>-3.753098</td>\n      <td>166.691681</td>\n      <td>-118.720779</td>\n      <td>160.568924</td>\n      <td>-2.296667</td>\n      <td>...</td>\n      <td>0.0</td>\n      <td>0.0</td>\n      <td>0.0</td>\n      <td>0.0</td>\n      <td>0.0</td>\n      <td>0.0</td>\n      <td>0.0</td>\n      <td>0.0</td>\n      <td>0.0</td>\n      <td>0.0</td>\n    </tr>\n    <tr>\n      <th>2</th>\n      <td>355.651337</td>\n      <td>255.912674</td>\n      <td>11.529702</td>\n      <td>-246.705582</td>\n      <td>81.910553</td>\n      <td>59.158012</td>\n      <td>2.915969</td>\n      <td>-56.578671</td>\n      <td>79.103516</td>\n      <td>57.111702</td>\n      <td>...</td>\n      <td>0.0</td>\n      <td>0.0</td>\n      <td>0.0</td>\n      <td>0.0</td>\n      <td>0.0</td>\n      <td>0.0</td>\n      <td>0.0</td>\n      <td>0.0</td>\n      <td>0.0</td>\n      <td>0.0</td>\n    </tr>\n    <tr>\n      <th>3</th>\n      <td>533.614868</td>\n      <td>507.421356</td>\n      <td>48.375240</td>\n      <td>157.886826</td>\n      <td>50.898926</td>\n      <td>49.697281</td>\n      <td>3.225070</td>\n      <td>10.468827</td>\n      <td>36.955311</td>\n      <td>35.339100</td>\n      <td>...</td>\n      <td>0.0</td>\n      <td>0.0</td>\n      <td>0.0</td>\n      <td>0.0</td>\n      <td>0.0</td>\n      <td>0.0</td>\n      <td>0.0</td>\n      <td>0.0</td>\n      <td>0.0</td>\n      <td>0.0</td>\n    </tr>\n    <tr>\n      <th>4</th>\n      <td>68.106377</td>\n      <td>0.791573</td>\n      <td>-63.289627</td>\n      <td>-25.145077</td>\n      <td>53.902973</td>\n      <td>-2.909187</td>\n      <td>-52.814068</td>\n      <td>-10.379848</td>\n      <td>50.724018</td>\n      <td>-2.523490</td>\n      <td>...</td>\n      <td>0.0</td>\n      <td>0.0</td>\n      <td>0.0</td>\n      <td>0.0</td>\n      <td>0.0</td>\n      <td>0.0</td>\n      <td>0.0</td>\n      <td>0.0</td>\n      <td>0.0</td>\n      <td>0.0</td>\n    </tr>\n    <tr>\n      <th>...</th>\n      <td>...</td>\n      <td>...</td>\n      <td>...</td>\n      <td>...</td>\n      <td>...</td>\n      <td>...</td>\n      <td>...</td>\n      <td>...</td>\n      <td>...</td>\n      <td>...</td>\n      <td>...</td>\n      <td>...</td>\n      <td>...</td>\n      <td>...</td>\n      <td>...</td>\n      <td>...</td>\n      <td>...</td>\n      <td>...</td>\n      <td>...</td>\n      <td>...</td>\n      <td>...</td>\n    </tr>\n    <tr>\n      <th>98763</th>\n      <td>162.574478</td>\n      <td>66.458244</td>\n      <td>146.757843</td>\n      <td>-21.815189</td>\n      <td>149.549133</td>\n      <td>61.525631</td>\n      <td>134.908997</td>\n      <td>-19.470064</td>\n      <td>102.112190</td>\n      <td>41.342888</td>\n      <td>...</td>\n      <td>0.0</td>\n      <td>0.0</td>\n      <td>0.0</td>\n      <td>0.0</td>\n      <td>0.0</td>\n      <td>0.0</td>\n      <td>0.0</td>\n      <td>0.0</td>\n      <td>0.0</td>\n      <td>0.0</td>\n    </tr>\n    <tr>\n      <th>98764</th>\n      <td>99.811035</td>\n      <td>55.350876</td>\n      <td>81.288795</td>\n      <td>-17.048637</td>\n      <td>44.799080</td>\n      <td>24.960217</td>\n      <td>36.451290</td>\n      <td>-7.431595</td>\n      <td>42.886120</td>\n      <td>23.469486</td>\n      <td>...</td>\n      <td>0.0</td>\n      <td>0.0</td>\n      <td>0.0</td>\n      <td>0.0</td>\n      <td>0.0</td>\n      <td>0.0</td>\n      <td>0.0</td>\n      <td>0.0</td>\n      <td>0.0</td>\n      <td>0.0</td>\n    </tr>\n    <tr>\n      <th>98765</th>\n      <td>325.679840</td>\n      <td>-241.943481</td>\n      <td>-103.064125</td>\n      <td>192.115845</td>\n      <td>144.435120</td>\n      <td>-107.709503</td>\n      <td>-46.266567</td>\n      <td>84.377434</td>\n      <td>101.453598</td>\n      <td>-75.606232</td>\n      <td>...</td>\n      <td>0.0</td>\n      <td>0.0</td>\n      <td>0.0</td>\n      <td>0.0</td>\n      <td>0.0</td>\n      <td>0.0</td>\n      <td>0.0</td>\n      <td>0.0</td>\n      <td>0.0</td>\n      <td>0.0</td>\n    </tr>\n    <tr>\n      <th>98766</th>\n      <td>137.944458</td>\n      <td>-90.294876</td>\n      <td>43.407539</td>\n      <td>-94.822327</td>\n      <td>105.007225</td>\n      <td>-69.811890</td>\n      <td>32.066605</td>\n      <td>-71.585968</td>\n      <td>91.719185</td>\n      <td>-60.037533</td>\n      <td>...</td>\n      <td>0.0</td>\n      <td>0.0</td>\n      <td>0.0</td>\n      <td>0.0</td>\n      <td>0.0</td>\n      <td>0.0</td>\n      <td>0.0</td>\n      <td>0.0</td>\n      <td>0.0</td>\n      <td>0.0</td>\n    </tr>\n    <tr>\n      <th>98767</th>\n      <td>123.853828</td>\n      <td>-47.016567</td>\n      <td>-89.639305</td>\n      <td>71.372192</td>\n      <td>108.165077</td>\n      <td>-39.354069</td>\n      <td>-76.659515</td>\n      <td>65.377678</td>\n      <td>78.864212</td>\n      <td>-24.157024</td>\n      <td>...</td>\n      <td>0.0</td>\n      <td>0.0</td>\n      <td>0.0</td>\n      <td>0.0</td>\n      <td>0.0</td>\n      <td>0.0</td>\n      <td>0.0</td>\n      <td>0.0</td>\n      <td>0.0</td>\n      <td>0.0</td>\n    </tr>\n  </tbody>\n</table>\n<p>98768 rows × 800 columns</p>\n</div>"
     },
     "metadata": {},
     "execution_count": 153
    }
   ],
   "source": [
    "df2"
   ]
  },
  {
   "cell_type": "code",
   "execution_count": 154,
   "metadata": {},
   "outputs": [],
   "source": [
    "j_px = treeArray[\"j_pt\"]\n",
    "j_py = np.zeros((treeArray[\"index\"].size))\n",
    "j_pz = treeArray[\"j_pt\"] * np.sinh(treeArray[\"j_eta\"])\n",
    "j_E = np.sqrt(np.square(treeArray[\"j_mass\"]) + np.square(treeArray[\"j_pt\"]) + np.square(j_pz))\n",
    "features_np = np.stack((j_E, j_px, j_py, j_pz, treeArray[\"j_q\"], treeArray[\"j_g\"], treeArray[\"j_w\"], treeArray[\"j_z\"], treeArray[\"j_t\"], treeArray[\"j_index\"]))"
   ]
  },
  {
   "cell_type": "code",
   "execution_count": 155,
   "metadata": {},
   "outputs": [],
   "source": [
    "features_np = features_np.T"
   ]
  },
  {
   "cell_type": "code",
   "execution_count": 156,
   "metadata": {},
   "outputs": [],
   "source": [
    "features_df = pd.DataFrame(features_np, columns = [\"j_E\", \"j_px\", \"j_py\", \"j_pz\", \"j_q\", \"j_g\", \"j_w\", \"j_z\", \"j_t\", \"j_index\"])\n",
    "features_df = features_df.drop_duplicates()\n",
    "features_df.sort_values(by=[\"j_index\"], inplace=True)\n",
    "features_df = features_df.iloc[:, :-1]\n",
    "features_df.reset_index(drop = True, inplace = True)"
   ]
  },
  {
   "cell_type": "code",
   "execution_count": 157,
   "metadata": {},
   "outputs": [
    {
     "output_type": "execute_result",
     "data": {
      "text/plain": [
       "               j_E         j_px  j_py         j_pz  j_q  j_g  j_w  j_z  j_t\n",
       "0      2449.131348  1043.848389   0.0 -2214.812012  0.0  1.0  0.0  0.0  0.0\n",
       "1      1430.415771  1169.579834   0.0  -820.326904  0.0  1.0  0.0  0.0  0.0\n",
       "2      1180.275757   846.473694   0.0  -820.773499  0.0  1.0  0.0  0.0  0.0\n",
       "3      1276.189209  1214.276001   0.0   374.392609  0.0  1.0  0.0  0.0  0.0\n",
       "4      1129.609985  1081.496826   0.0  -299.945129  0.0  1.0  0.0  0.0  0.0\n",
       "...            ...          ...   ...          ...  ...  ...  ...  ...  ...\n",
       "98763   974.835327   959.646423   0.0   -94.632500  0.0  0.0  0.0  0.0  1.0\n",
       "98764   994.302185   975.270325   0.0   -34.542484  0.0  0.0  0.0  0.0  1.0\n",
       "98765  1139.156982   947.807678   0.0   624.912598  0.0  0.0  0.0  0.0  1.0\n",
       "98766  1332.987915   955.398376   0.0  -926.830383  0.0  0.0  0.0  0.0  1.0\n",
       "98767  1206.562378   974.472717   0.0   705.777405  0.0  0.0  0.0  0.0  1.0\n",
       "\n",
       "[98768 rows x 9 columns]"
      ],
      "text/html": "<div>\n<style scoped>\n    .dataframe tbody tr th:only-of-type {\n        vertical-align: middle;\n    }\n\n    .dataframe tbody tr th {\n        vertical-align: top;\n    }\n\n    .dataframe thead th {\n        text-align: right;\n    }\n</style>\n<table border=\"1\" class=\"dataframe\">\n  <thead>\n    <tr style=\"text-align: right;\">\n      <th></th>\n      <th>j_E</th>\n      <th>j_px</th>\n      <th>j_py</th>\n      <th>j_pz</th>\n      <th>j_q</th>\n      <th>j_g</th>\n      <th>j_w</th>\n      <th>j_z</th>\n      <th>j_t</th>\n    </tr>\n  </thead>\n  <tbody>\n    <tr>\n      <th>0</th>\n      <td>2449.131348</td>\n      <td>1043.848389</td>\n      <td>0.0</td>\n      <td>-2214.812012</td>\n      <td>0.0</td>\n      <td>1.0</td>\n      <td>0.0</td>\n      <td>0.0</td>\n      <td>0.0</td>\n    </tr>\n    <tr>\n      <th>1</th>\n      <td>1430.415771</td>\n      <td>1169.579834</td>\n      <td>0.0</td>\n      <td>-820.326904</td>\n      <td>0.0</td>\n      <td>1.0</td>\n      <td>0.0</td>\n      <td>0.0</td>\n      <td>0.0</td>\n    </tr>\n    <tr>\n      <th>2</th>\n      <td>1180.275757</td>\n      <td>846.473694</td>\n      <td>0.0</td>\n      <td>-820.773499</td>\n      <td>0.0</td>\n      <td>1.0</td>\n      <td>0.0</td>\n      <td>0.0</td>\n      <td>0.0</td>\n    </tr>\n    <tr>\n      <th>3</th>\n      <td>1276.189209</td>\n      <td>1214.276001</td>\n      <td>0.0</td>\n      <td>374.392609</td>\n      <td>0.0</td>\n      <td>1.0</td>\n      <td>0.0</td>\n      <td>0.0</td>\n      <td>0.0</td>\n    </tr>\n    <tr>\n      <th>4</th>\n      <td>1129.609985</td>\n      <td>1081.496826</td>\n      <td>0.0</td>\n      <td>-299.945129</td>\n      <td>0.0</td>\n      <td>1.0</td>\n      <td>0.0</td>\n      <td>0.0</td>\n      <td>0.0</td>\n    </tr>\n    <tr>\n      <th>...</th>\n      <td>...</td>\n      <td>...</td>\n      <td>...</td>\n      <td>...</td>\n      <td>...</td>\n      <td>...</td>\n      <td>...</td>\n      <td>...</td>\n      <td>...</td>\n    </tr>\n    <tr>\n      <th>98763</th>\n      <td>974.835327</td>\n      <td>959.646423</td>\n      <td>0.0</td>\n      <td>-94.632500</td>\n      <td>0.0</td>\n      <td>0.0</td>\n      <td>0.0</td>\n      <td>0.0</td>\n      <td>1.0</td>\n    </tr>\n    <tr>\n      <th>98764</th>\n      <td>994.302185</td>\n      <td>975.270325</td>\n      <td>0.0</td>\n      <td>-34.542484</td>\n      <td>0.0</td>\n      <td>0.0</td>\n      <td>0.0</td>\n      <td>0.0</td>\n      <td>1.0</td>\n    </tr>\n    <tr>\n      <th>98765</th>\n      <td>1139.156982</td>\n      <td>947.807678</td>\n      <td>0.0</td>\n      <td>624.912598</td>\n      <td>0.0</td>\n      <td>0.0</td>\n      <td>0.0</td>\n      <td>0.0</td>\n      <td>1.0</td>\n    </tr>\n    <tr>\n      <th>98766</th>\n      <td>1332.987915</td>\n      <td>955.398376</td>\n      <td>0.0</td>\n      <td>-926.830383</td>\n      <td>0.0</td>\n      <td>0.0</td>\n      <td>0.0</td>\n      <td>0.0</td>\n      <td>1.0</td>\n    </tr>\n    <tr>\n      <th>98767</th>\n      <td>1206.562378</td>\n      <td>974.472717</td>\n      <td>0.0</td>\n      <td>705.777405</td>\n      <td>0.0</td>\n      <td>0.0</td>\n      <td>0.0</td>\n      <td>0.0</td>\n      <td>1.0</td>\n    </tr>\n  </tbody>\n</table>\n<p>98768 rows × 9 columns</p>\n</div>"
     },
     "metadata": {},
     "execution_count": 157
    }
   ],
   "source": [
    "features_df"
   ]
  },
  {
   "cell_type": "code",
   "execution_count": 158,
   "metadata": {},
   "outputs": [],
   "source": [
    "df_final = pd.concat([df2, features_df], axis=1)\n",
    "df_final.insert(loc=804, column=\"ttv\", value=0)\n",
    "df_final[\"j_q\"] = df_final[\"j_q\"].astype(int)\n",
    "df_final[\"j_g\"] = df_final[\"j_g\"].astype(int)\n",
    "df_final[\"j_w\"] = df_final[\"j_w\"].astype(int)\n",
    "df_final[\"j_z\"] = df_final[\"j_z\"].astype(int)\n",
    "df_final[\"j_t\"] = df_final[\"j_t\"].astype(int)"
   ]
  },
  {
   "cell_type": "code",
   "execution_count": 159,
   "metadata": {},
   "outputs": [],
   "source": [
    "columns = []\n",
    "for i in range(200):\n",
    "    columns.append(\"E_\" + str(i))\n",
    "    columns.append(\"PX_\" + str(i))\n",
    "    columns.append(\"PY_\" + str(i))\n",
    "    columns.append(\"PZ_\" + str(i))\n",
    "columns.append(\"truthE\")\n",
    "columns.append(\"truthPX\")\n",
    "columns.append(\"truthPY\")\n",
    "columns.append(\"truthPZ\")\n",
    "columns.append(\"ttv\")\n",
    "columns.append(\"is_signal_q\")\n",
    "columns.append(\"is_signal_g\")\n",
    "columns.append(\"is_signal_w\")\n",
    "columns.append(\"is_signal_z\")\n",
    "columns.append(\"is_signal_t\")"
   ]
  },
  {
   "cell_type": "code",
   "execution_count": 160,
   "metadata": {},
   "outputs": [],
   "source": [
    "df_final.columns = columns"
   ]
  },
  {
   "cell_type": "code",
   "execution_count": 161,
   "metadata": {},
   "outputs": [
    {
     "output_type": "execute_result",
     "data": {
      "text/plain": [
       "              E_0        PX_0        PY_0        PZ_0         E_1        PX_1  \\\n",
       "0      750.853638  263.664520 -182.444260 -678.952332  585.144897  205.583252   \n",
       "1      432.886475   -8.857548  354.048767 -248.921112  204.682266   -3.753098   \n",
       "2      355.651337  255.912674   11.529702 -246.705582   81.910553   59.158012   \n",
       "3      533.614868  507.421356   48.375240  157.886826   50.898926   49.697281   \n",
       "4       68.106377    0.791573  -63.289627  -25.145077   53.902973   -2.909187   \n",
       "...           ...         ...         ...         ...         ...         ...   \n",
       "98763  162.574478   66.458244  146.757843  -21.815189  149.549133   61.525631   \n",
       "98764   99.811035   55.350876   81.288795  -17.048637   44.799080   24.960217   \n",
       "98765  325.679840 -241.943481 -103.064125  192.115845  144.435120 -107.709503   \n",
       "98766  137.944458  -90.294876   43.407539  -94.822327  105.007225  -69.811890   \n",
       "98767  123.853828  -47.016567  -89.639305   71.372192  108.165077  -39.354069   \n",
       "\n",
       "             PY_1        PZ_1         E_2       PX_2  ...       truthE  \\\n",
       "0     -143.016251 -528.844421  220.193924  76.962601  ...  2449.131348   \n",
       "1      166.691681 -118.720779  160.568924  -2.296667  ...  1430.415771   \n",
       "2        2.915969  -56.578671   79.103516  57.111702  ...  1180.275757   \n",
       "3        3.225070   10.468827   36.955311  35.339100  ...  1276.189209   \n",
       "4      -52.814068  -10.379848   50.724018  -2.523490  ...  1129.609985   \n",
       "...           ...         ...         ...        ...  ...          ...   \n",
       "98763  134.908997  -19.470064  102.112190  41.342888  ...   974.835327   \n",
       "98764   36.451290   -7.431595   42.886120  23.469486  ...   994.302185   \n",
       "98765  -46.266567   84.377434  101.453598 -75.606232  ...  1139.156982   \n",
       "98766   32.066605  -71.585968   91.719185 -60.037533  ...  1332.987915   \n",
       "98767  -76.659515   65.377678   78.864212 -24.157024  ...  1206.562378   \n",
       "\n",
       "           truthPX  truthPY      truthPZ  ttv  is_signal_q  is_signal_g  \\\n",
       "0      1043.848389      0.0 -2214.812012    0            0            1   \n",
       "1      1169.579834      0.0  -820.326904    0            0            1   \n",
       "2       846.473694      0.0  -820.773499    0            0            1   \n",
       "3      1214.276001      0.0   374.392609    0            0            1   \n",
       "4      1081.496826      0.0  -299.945129    0            0            1   \n",
       "...            ...      ...          ...  ...          ...          ...   \n",
       "98763   959.646423      0.0   -94.632500    0            0            0   \n",
       "98764   975.270325      0.0   -34.542484    0            0            0   \n",
       "98765   947.807678      0.0   624.912598    0            0            0   \n",
       "98766   955.398376      0.0  -926.830383    0            0            0   \n",
       "98767   974.472717      0.0   705.777405    0            0            0   \n",
       "\n",
       "       is_signal_w  is_signal_z  is_signal_t  \n",
       "0                0            0            0  \n",
       "1                0            0            0  \n",
       "2                0            0            0  \n",
       "3                0            0            0  \n",
       "4                0            0            0  \n",
       "...            ...          ...          ...  \n",
       "98763            0            0            1  \n",
       "98764            0            0            1  \n",
       "98765            0            0            1  \n",
       "98766            0            0            1  \n",
       "98767            0            0            1  \n",
       "\n",
       "[98768 rows x 810 columns]"
      ],
      "text/html": "<div>\n<style scoped>\n    .dataframe tbody tr th:only-of-type {\n        vertical-align: middle;\n    }\n\n    .dataframe tbody tr th {\n        vertical-align: top;\n    }\n\n    .dataframe thead th {\n        text-align: right;\n    }\n</style>\n<table border=\"1\" class=\"dataframe\">\n  <thead>\n    <tr style=\"text-align: right;\">\n      <th></th>\n      <th>E_0</th>\n      <th>PX_0</th>\n      <th>PY_0</th>\n      <th>PZ_0</th>\n      <th>E_1</th>\n      <th>PX_1</th>\n      <th>PY_1</th>\n      <th>PZ_1</th>\n      <th>E_2</th>\n      <th>PX_2</th>\n      <th>...</th>\n      <th>truthE</th>\n      <th>truthPX</th>\n      <th>truthPY</th>\n      <th>truthPZ</th>\n      <th>ttv</th>\n      <th>is_signal_q</th>\n      <th>is_signal_g</th>\n      <th>is_signal_w</th>\n      <th>is_signal_z</th>\n      <th>is_signal_t</th>\n    </tr>\n  </thead>\n  <tbody>\n    <tr>\n      <th>0</th>\n      <td>750.853638</td>\n      <td>263.664520</td>\n      <td>-182.444260</td>\n      <td>-678.952332</td>\n      <td>585.144897</td>\n      <td>205.583252</td>\n      <td>-143.016251</td>\n      <td>-528.844421</td>\n      <td>220.193924</td>\n      <td>76.962601</td>\n      <td>...</td>\n      <td>2449.131348</td>\n      <td>1043.848389</td>\n      <td>0.0</td>\n      <td>-2214.812012</td>\n      <td>0</td>\n      <td>0</td>\n      <td>1</td>\n      <td>0</td>\n      <td>0</td>\n      <td>0</td>\n    </tr>\n    <tr>\n      <th>1</th>\n      <td>432.886475</td>\n      <td>-8.857548</td>\n      <td>354.048767</td>\n      <td>-248.921112</td>\n      <td>204.682266</td>\n      <td>-3.753098</td>\n      <td>166.691681</td>\n      <td>-118.720779</td>\n      <td>160.568924</td>\n      <td>-2.296667</td>\n      <td>...</td>\n      <td>1430.415771</td>\n      <td>1169.579834</td>\n      <td>0.0</td>\n      <td>-820.326904</td>\n      <td>0</td>\n      <td>0</td>\n      <td>1</td>\n      <td>0</td>\n      <td>0</td>\n      <td>0</td>\n    </tr>\n    <tr>\n      <th>2</th>\n      <td>355.651337</td>\n      <td>255.912674</td>\n      <td>11.529702</td>\n      <td>-246.705582</td>\n      <td>81.910553</td>\n      <td>59.158012</td>\n      <td>2.915969</td>\n      <td>-56.578671</td>\n      <td>79.103516</td>\n      <td>57.111702</td>\n      <td>...</td>\n      <td>1180.275757</td>\n      <td>846.473694</td>\n      <td>0.0</td>\n      <td>-820.773499</td>\n      <td>0</td>\n      <td>0</td>\n      <td>1</td>\n      <td>0</td>\n      <td>0</td>\n      <td>0</td>\n    </tr>\n    <tr>\n      <th>3</th>\n      <td>533.614868</td>\n      <td>507.421356</td>\n      <td>48.375240</td>\n      <td>157.886826</td>\n      <td>50.898926</td>\n      <td>49.697281</td>\n      <td>3.225070</td>\n      <td>10.468827</td>\n      <td>36.955311</td>\n      <td>35.339100</td>\n      <td>...</td>\n      <td>1276.189209</td>\n      <td>1214.276001</td>\n      <td>0.0</td>\n      <td>374.392609</td>\n      <td>0</td>\n      <td>0</td>\n      <td>1</td>\n      <td>0</td>\n      <td>0</td>\n      <td>0</td>\n    </tr>\n    <tr>\n      <th>4</th>\n      <td>68.106377</td>\n      <td>0.791573</td>\n      <td>-63.289627</td>\n      <td>-25.145077</td>\n      <td>53.902973</td>\n      <td>-2.909187</td>\n      <td>-52.814068</td>\n      <td>-10.379848</td>\n      <td>50.724018</td>\n      <td>-2.523490</td>\n      <td>...</td>\n      <td>1129.609985</td>\n      <td>1081.496826</td>\n      <td>0.0</td>\n      <td>-299.945129</td>\n      <td>0</td>\n      <td>0</td>\n      <td>1</td>\n      <td>0</td>\n      <td>0</td>\n      <td>0</td>\n    </tr>\n    <tr>\n      <th>...</th>\n      <td>...</td>\n      <td>...</td>\n      <td>...</td>\n      <td>...</td>\n      <td>...</td>\n      <td>...</td>\n      <td>...</td>\n      <td>...</td>\n      <td>...</td>\n      <td>...</td>\n      <td>...</td>\n      <td>...</td>\n      <td>...</td>\n      <td>...</td>\n      <td>...</td>\n      <td>...</td>\n      <td>...</td>\n      <td>...</td>\n      <td>...</td>\n      <td>...</td>\n      <td>...</td>\n    </tr>\n    <tr>\n      <th>98763</th>\n      <td>162.574478</td>\n      <td>66.458244</td>\n      <td>146.757843</td>\n      <td>-21.815189</td>\n      <td>149.549133</td>\n      <td>61.525631</td>\n      <td>134.908997</td>\n      <td>-19.470064</td>\n      <td>102.112190</td>\n      <td>41.342888</td>\n      <td>...</td>\n      <td>974.835327</td>\n      <td>959.646423</td>\n      <td>0.0</td>\n      <td>-94.632500</td>\n      <td>0</td>\n      <td>0</td>\n      <td>0</td>\n      <td>0</td>\n      <td>0</td>\n      <td>1</td>\n    </tr>\n    <tr>\n      <th>98764</th>\n      <td>99.811035</td>\n      <td>55.350876</td>\n      <td>81.288795</td>\n      <td>-17.048637</td>\n      <td>44.799080</td>\n      <td>24.960217</td>\n      <td>36.451290</td>\n      <td>-7.431595</td>\n      <td>42.886120</td>\n      <td>23.469486</td>\n      <td>...</td>\n      <td>994.302185</td>\n      <td>975.270325</td>\n      <td>0.0</td>\n      <td>-34.542484</td>\n      <td>0</td>\n      <td>0</td>\n      <td>0</td>\n      <td>0</td>\n      <td>0</td>\n      <td>1</td>\n    </tr>\n    <tr>\n      <th>98765</th>\n      <td>325.679840</td>\n      <td>-241.943481</td>\n      <td>-103.064125</td>\n      <td>192.115845</td>\n      <td>144.435120</td>\n      <td>-107.709503</td>\n      <td>-46.266567</td>\n      <td>84.377434</td>\n      <td>101.453598</td>\n      <td>-75.606232</td>\n      <td>...</td>\n      <td>1139.156982</td>\n      <td>947.807678</td>\n      <td>0.0</td>\n      <td>624.912598</td>\n      <td>0</td>\n      <td>0</td>\n      <td>0</td>\n      <td>0</td>\n      <td>0</td>\n      <td>1</td>\n    </tr>\n    <tr>\n      <th>98766</th>\n      <td>137.944458</td>\n      <td>-90.294876</td>\n      <td>43.407539</td>\n      <td>-94.822327</td>\n      <td>105.007225</td>\n      <td>-69.811890</td>\n      <td>32.066605</td>\n      <td>-71.585968</td>\n      <td>91.719185</td>\n      <td>-60.037533</td>\n      <td>...</td>\n      <td>1332.987915</td>\n      <td>955.398376</td>\n      <td>0.0</td>\n      <td>-926.830383</td>\n      <td>0</td>\n      <td>0</td>\n      <td>0</td>\n      <td>0</td>\n      <td>0</td>\n      <td>1</td>\n    </tr>\n    <tr>\n      <th>98767</th>\n      <td>123.853828</td>\n      <td>-47.016567</td>\n      <td>-89.639305</td>\n      <td>71.372192</td>\n      <td>108.165077</td>\n      <td>-39.354069</td>\n      <td>-76.659515</td>\n      <td>65.377678</td>\n      <td>78.864212</td>\n      <td>-24.157024</td>\n      <td>...</td>\n      <td>1206.562378</td>\n      <td>974.472717</td>\n      <td>0.0</td>\n      <td>705.777405</td>\n      <td>0</td>\n      <td>0</td>\n      <td>0</td>\n      <td>0</td>\n      <td>0</td>\n      <td>1</td>\n    </tr>\n  </tbody>\n</table>\n<p>98768 rows × 810 columns</p>\n</div>"
     },
     "metadata": {},
     "execution_count": 161
    }
   ],
   "source": [
    "df_final"
   ]
  },
  {
   "cell_type": "code",
   "execution_count": 162,
   "metadata": {},
   "outputs": [],
   "source": [
    "df_final.to_hdf('pandas/' + filename + '.h5', key='table', mode='w', format='table')"
   ]
  }
 ]
}